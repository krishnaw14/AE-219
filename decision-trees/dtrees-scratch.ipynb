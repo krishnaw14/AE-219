{
 "cells": [
  {
   "cell_type": "markdown",
   "metadata": {},
   "source": [
    "# Implementing decision trees from scratch"
   ]
  },
  {
   "cell_type": "code",
   "execution_count": 2,
   "metadata": {},
   "outputs": [],
   "source": [
    "import numpy as np\n",
    "from sklearn.datasets import load_iris"
   ]
  },
  {
   "cell_type": "code",
   "execution_count": 35,
   "metadata": {},
   "outputs": [],
   "source": [
    "iris_dataset = load_iris()\n",
    "X = iris_dataset.data[:,:2]\n",
    "y = iris_dataset.target\n",
    "Xy = np.column_stack((X,y))"
   ]
  },
  {
   "cell_type": "code",
   "execution_count": 36,
   "metadata": {},
   "outputs": [
    {
     "data": {
      "text/plain": [
       "array([[ 5.1,  3.5,  0. ],\n",
       "       [ 4.9,  3. ,  0. ],\n",
       "       [ 4.7,  3.2,  0. ]])"
      ]
     },
     "execution_count": 36,
     "metadata": {},
     "output_type": "execute_result"
    }
   ],
   "source": [
    "Xy = np.column_stack((X,y))\n",
    "Xy[:3]"
   ]
  },
  {
   "cell_type": "code",
   "execution_count": 37,
   "metadata": {},
   "outputs": [],
   "source": [
    "def gini_index(groups, classes):\n",
    "    n_samples = sum([len(group) for group in groups])\n",
    "    gini = 0\n",
    "    for group in groups:\n",
    "        size = float(len(group))\n",
    "        if size == 0:\n",
    "            continue\n",
    "        score = 0     \n",
    "        for class_value in classes:\n",
    "            p = [row[-1] for row in group].count(class_value) / size # Calculate gini index for each attribute\n",
    "            score += p*p\n",
    "        gini += (1-score)*(size/n_samples)   # Weighted average\n",
    "    return gini "
   ]
  },
  {
   "cell_type": "code",
   "execution_count": 38,
   "metadata": {},
   "outputs": [
    {
     "name": "stdout",
     "output_type": "stream",
     "text": [
      "0.42424242424242425\n"
     ]
    }
   ],
   "source": [
    "# Testing gini_index\n",
    "z = 40\n",
    "groups = [Xy[:z, :], Xy[z:,:]]\n",
    "classes = np.unique(Xy[:,-1])\n",
    "print(gini_index(groups,classes))"
   ]
  },
  {
   "cell_type": "code",
   "execution_count": 39,
   "metadata": {},
   "outputs": [],
   "source": [
    "def split(feat, val, Xy):\n",
    "    Xi_left = np.array([]).reshape(0,3)\n",
    "    Xi_right = np.array([]).reshape(0,3)\n",
    "    for i in Xy:\n",
    "        #print(i.shape)\n",
    "        if i[feat] <= val:\n",
    "            Xi_left = np.vstack((Xi_left,i))\n",
    "        if i[feat] > val:\n",
    "            Xi_right = np.vstack((Xi_right,i))\n",
    "    return Xi_left, Xi_right"
   ]
  },
  {
   "cell_type": "code",
   "execution_count": 40,
   "metadata": {},
   "outputs": [],
   "source": [
    "a, b = split(0, 6.3, Xy)"
   ]
  },
  {
   "cell_type": "code",
   "execution_count": 30,
   "metadata": {},
   "outputs": [],
   "source": [
    "# Evaluating the cost of splitting at an attribute and selecting the best split (attribute that minimises gini_index)\n",
    "def get_split(dataset):\n",
    "    classes = np.unique(dataset[:,-1])\n",
    "    best_feature = 1000\n",
    "    best_val = 1000\n",
    "    best_score = 1000\n",
    "    best_groups = None\n",
    "    \n",
    "    for feature in range(dataset.shape[1]-1):\n",
    "        for Xi in dataset:\n",
    "            groups = split(feature, Xi[feature], dataset)\n",
    "        gini_score = gini_index(groups, classes)\n",
    "        if gini_score < best_score:\n",
    "            best_feature = feature\n",
    "            best_val = Xi[feature]\n",
    "            best_score = gini_score\n",
    "            best_groups = groups\n",
    "    \n",
    "    output = {}\n",
    "    output[\"feature\"] = best_feature\n",
    "    output[\"val\"] = best_val\n",
    "    output[\"groups\"] = best_groups\n",
    "    \n",
    "    return output"
   ]
  },
  {
   "cell_type": "code",
   "execution_count": 41,
   "metadata": {},
   "outputs": [],
   "source": [
    "split_dictionary = get_split(Xy)"
   ]
  },
  {
   "cell_type": "code",
   "execution_count": 42,
   "metadata": {},
   "outputs": [],
   "source": [
    "def terminal_node(group):\n",
    "    classes, counts = np.unique(group[:,-1],return_counts=True)\n",
    "    return classes[np.argmax(counts)]"
   ]
  },
  {
   "cell_type": "code",
   "execution_count": 43,
   "metadata": {},
   "outputs": [
    {
     "data": {
      "text/plain": [
       "0.0"
      ]
     },
     "execution_count": 43,
     "metadata": {},
     "output_type": "execute_result"
    }
   ],
   "source": [
    "z = 40\n",
    "groups = [Xy[:z,:],Xy[z:,:]]\n",
    "group = groups[0]\n",
    "terminal_node(group)"
   ]
  },
  {
   "cell_type": "code",
   "execution_count": 44,
   "metadata": {},
   "outputs": [],
   "source": [
    "np.unique?"
   ]
  },
  {
   "cell_type": "code",
   "execution_count": 52,
   "metadata": {},
   "outputs": [],
   "source": [
    "def split_branch(node, max_depth, min_num_sample, depth):\n",
    "    left_node, right_node = node['groups']\n",
    "    del(node['groups'])\n",
    "    if not isinstance(left_node,np.ndarray) or not isinstance(right_node,np.ndarray):\n",
    "        node['left'] = node['right'] = terminal_node(left_node + right_node)\n",
    "        return\n",
    "    if depth >= max_depth:\n",
    "        node['left'] = terminal_node(left_node)\n",
    "        node['right'] = terminal_node(right_node)\n",
    "        return\n",
    "    if len(left_node) <= min_num_sample:\n",
    "        node['left'] = terminal_node(left_node)\n",
    "    else:\n",
    "        node['left'] = get_split(left_node)\n",
    "        split_branch(node['left'], max_depth, min_num_sample, depth+1)\n",
    "    if len(right_node) <= min_num_sample:\n",
    "        node['right'] = terminal_node(right_node)\n",
    "    else:\n",
    "        node['right'] = get_split(right_node)\n",
    "        split_branch(node['right'], max_depth, min_num_sample, depth+1)"
   ]
  },
  {
   "cell_type": "code",
   "execution_count": 53,
   "metadata": {},
   "outputs": [],
   "source": [
    "split_dict = get_split(Xy)\n",
    "left, right = split_dictionary['groups']"
   ]
  },
  {
   "cell_type": "code",
   "execution_count": 54,
   "metadata": {},
   "outputs": [],
   "source": [
    "def build_tree(Xy, max_depth, min_num_sample):\n",
    "    root = get_split(Xy)\n",
    "    split_branch(root, max_depth, min_num_sample, 1)\n",
    "    return root"
   ]
  },
  {
   "cell_type": "code",
   "execution_count": 55,
   "metadata": {},
   "outputs": [],
   "source": [
    "Xy = np.column_stack((X,y))\n",
    "tree = build_tree(Xy, 2, 30)"
   ]
  },
  {
   "cell_type": "code",
   "execution_count": 56,
   "metadata": {},
   "outputs": [],
   "source": [
    "np.vstack?"
   ]
  },
  {
   "cell_type": "code",
   "execution_count": null,
   "metadata": {},
   "outputs": [],
   "source": []
  }
 ],
 "metadata": {
  "kernelspec": {
   "display_name": "Python 3",
   "language": "python",
   "name": "python3"
  },
  "language_info": {
   "codemirror_mode": {
    "name": "ipython",
    "version": 3
   },
   "file_extension": ".py",
   "mimetype": "text/x-python",
   "name": "python",
   "nbconvert_exporter": "python",
   "pygments_lexer": "ipython3",
   "version": "3.6.0"
  }
 },
 "nbformat": 4,
 "nbformat_minor": 2
}
